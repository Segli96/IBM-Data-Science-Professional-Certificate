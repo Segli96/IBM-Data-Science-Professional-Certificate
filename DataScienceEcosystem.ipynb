{
 "cells": [
  {
   "cell_type": "markdown",
   "id": "339b1aa4-7422-49c8-b4a5-704fa4faca9e",
   "metadata": {},
   "source": [
    "# Data Science and Tools Ecosystem\n",
    "---"
   ]
  },
  {
   "cell_type": "markdown",
   "id": "65009820-23d9-42bd-938c-c4c4aae1c5ab",
   "metadata": {
    "tags": []
   },
   "source": [
    "## Author ##\n",
    " Spencer Egli"
   ]
  },
  {
   "cell_type": "markdown",
   "id": "1bf647e3-eeb8-4782-a185-96ea03eb40bc",
   "metadata": {},
   "source": [
    "### Data Science tools and Ecosystem are summarized in this notebook."
   ]
  },
  {
   "cell_type": "markdown",
   "id": "a0d5fcc9-d408-4cba-91af-c2884439f354",
   "metadata": {},
   "source": [
    "**Objectives:**\n",
    "- Popular Coding Languages in Data Science\n",
    "- Libraries in Data Science\n",
    "- Examples in Python"
   ]
  },
  {
   "cell_type": "markdown",
   "id": "f85ee898-41a0-49e4-b3ac-b88cb68480f3",
   "metadata": {
    "tags": []
   },
   "source": [
    "#### Some Popular coding Languages Data Scientist use are\n",
    "----------------------------"
   ]
  },
  {
   "cell_type": "markdown",
   "id": "9459cdac-a547-42ea-9f7b-73c8812b8a59",
   "metadata": {},
   "source": [
    "1. Python\n",
    "2. C/C++\n",
    "3. SQL\n",
    "4. R\n",
    "5. Julia\n",
    "6. JavaScript\n",
    "7. SAS\n"
   ]
  },
  {
   "cell_type": "markdown",
   "id": "08179db6-5942-4966-b8dd-755d3f7d61b3",
   "metadata": {},
   "source": [
    "#### Some commonly used Libraries in Data Science are \n",
    "----"
   ]
  },
  {
   "cell_type": "markdown",
   "id": "030cb8a6-3d38-4a57-bb07-b29d9a8f913f",
   "metadata": {},
   "source": [
    "1. TensorFlow\n",
    "2. NumPy\n",
    "3. Pandas"
   ]
  },
  {
   "cell_type": "markdown",
   "id": "e9f31507-e58f-4dac-8e52-f972febf0eab",
   "metadata": {
    "tags": []
   },
   "source": [
    "| Data Science Tools |\n",
    "|---|\n",
    "| Rstudio |\n",
    "| Apache Spark |\n",
    "| Tensorflow |"
   ]
  },
  {
   "cell_type": "markdown",
   "id": "bdb77311-8094-4713-96ff-a63f607a002e",
   "metadata": {},
   "source": [
    "### Below are a few examples of evaluating arithmetic expressions in Python\n",
    "---"
   ]
  },
  {
   "cell_type": "code",
   "execution_count": 3,
   "id": "9d3ce1a8-f0b9-4be2-a8f8-53b36b718128",
   "metadata": {
    "tags": []
   },
   "outputs": [
    {
     "data": {
      "text/plain": [
       "17"
      ]
     },
     "execution_count": 3,
     "metadata": {},
     "output_type": "execute_result"
    }
   ],
   "source": [
    "#This simple arithmetic to multiple then add integers\n",
    "\n",
    "(3*4)+5\n"
   ]
  },
  {
   "cell_type": "code",
   "execution_count": 11,
   "id": "6838a6db-9adc-476e-b7bd-d1fe96952f30",
   "metadata": {
    "tags": []
   },
   "outputs": [
    {
     "name": "stdin",
     "output_type": "stream",
     "text": [
      "how many minutes? 200\n"
     ]
    },
    {
     "name": "stdout",
     "output_type": "stream",
     "text": [
      "3.33 Hour(s)\n"
     ]
    }
   ],
   "source": [
    "#This will convert 200 minutes to hours by dividing by 60\n",
    "\n",
    "min=int(input(\"how many minutes?\"))\n",
    "print(round(min/60, 2), \"Hour(s)\")"
   ]
  },
  {
   "cell_type": "code",
   "execution_count": null,
   "id": "03012cf5-b217-4de2-8c48-6f1bde67ac32",
   "metadata": {},
   "outputs": [],
   "source": []
  }
 ],
 "metadata": {
  "kernelspec": {
   "display_name": "Python",
   "language": "python",
   "name": "conda-env-python-py"
  },
  "language_info": {
   "codemirror_mode": {
    "name": "ipython",
    "version": 3
   },
   "file_extension": ".py",
   "mimetype": "text/x-python",
   "name": "python",
   "nbconvert_exporter": "python",
   "pygments_lexer": "ipython3",
   "version": "3.7.12"
  }
 },
 "nbformat": 4,
 "nbformat_minor": 5
}
